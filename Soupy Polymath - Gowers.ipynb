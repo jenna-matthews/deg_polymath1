{
 "cells": [
  {
   "cell_type": "code",
   "execution_count": 1,
   "id": "039a1e5b",
   "metadata": {},
   "outputs": [],
   "source": [
    "#using tutorial from https://gist.github.com/ultimaxslc/50be3eb1808a857fbaa4\n",
    "\n",
    "### 1543 comments and 20 posts from Gowers"
   ]
  },
  {
   "cell_type": "code",
   "execution_count": 2,
   "id": "a2a05684",
   "metadata": {},
   "outputs": [],
   "source": [
    "#import the key libraries\n",
    "from bs4 import BeautifulSoup\n",
    "from datetime import datetime\n",
    "\n",
    "import requests\n",
    "import csv\n",
    "import re\n",
    "import time\n",
    "import datetime\n",
    "\n",
    "#need to store the data in a dataframe\n",
    "import pandas as pd "
   ]
  },
  {
   "cell_type": "code",
   "execution_count": 3,
   "id": "b316dcae",
   "metadata": {},
   "outputs": [],
   "source": [
    "#initialize the variables\n",
    "debugFlag = 0\n",
    "uniqueid = 0\n",
    "\n",
    "article_link_list = []"
   ]
  },
  {
   "cell_type": "code",
   "execution_count": 4,
   "id": "2fecd0e5",
   "metadata": {},
   "outputs": [
    {
     "name": "stdout",
     "output_type": "stream",
     "text": [
      "Empty DataFrame\n",
      "Columns: [post_source, post_url, post_timestamp, comment_timestamp, post_title, counter, post_author, post_text]\n",
      "Index: []\n"
     ]
    }
   ],
   "source": [
    "#create the empty dataframe for initial posts and comments\n",
    "polymath_Gowers = pd.DataFrame(columns = ['post_source','post_url','post_timestamp', 'comment_timestamp','post_title','counter', 'post_author','post_text'])\n",
    "print(polymath_Gowers)   "
   ]
  },
  {
   "cell_type": "code",
   "execution_count": 5,
   "id": "b80fb425",
   "metadata": {},
   "outputs": [],
   "source": [
    "#create a csv file with the links to the desired posts\n",
    "#saved as /Users/jennaolsen/Desktop/mothership-gowers-articles-list.csv"
   ]
  },
  {
   "cell_type": "code",
   "execution_count": 6,
   "id": "a24b8f8a",
   "metadata": {},
   "outputs": [],
   "source": [
    "### Reads from csv source and appends to article link list\n",
    "#changes from source code:\n",
    "# switched to 'r' so it wasn't a binary file; \n",
    "# added encoding - the utf-8-sig removes the '\\ufeff' that was showing up at the beginning of the first row\n",
    "with open('/Users/jennaolsen/Desktop/mothership-gowers-articles-list.csv', 'r', encoding=\"utf-8-sig\") as f:\n",
    "\treader = csv.reader(f)\n",
    "\tfor row in reader:\n",
    "\t\tarticle_link_list.append(row)"
   ]
  },
  {
   "cell_type": "code",
   "execution_count": 7,
   "id": "f109d37a",
   "metadata": {},
   "outputs": [
    {
     "name": "stdout",
     "output_type": "stream",
     "text": [
      "['https://gowers.wordpress.com/2009/01/27/is-massively-collaborative-mathematics-possible/']\n",
      "['https://gowers.wordpress.com/2009/01/30/background-to-a-polymath-project/']\n",
      "['https://gowers.wordpress.com/2009/02/01/questions-of-procedure/']\n",
      "['https://gowers.wordpress.com/2009/02/01/a-combinatorial-approach-to-density-hales-jewett/']\n",
      "['https://gowers.wordpress.com/2009/02/01/why-this-particular-problem/']\n",
      "['https://gowers.wordpress.com/2009/02/04/quick-question/']\n",
      "['https://gowers.wordpress.com/2009/02/06/dhj-the-triangle-removal-approach/']\n",
      "['https://gowers.wordpress.com/2009/02/08/dhj-quasirandomness-and-obstructions-to-uniformity/']\n",
      "['https://gowers.wordpress.com/2009/02/13/dhj-possible-proof-strategies/']\n",
      "['https://gowers.wordpress.com/2009/02/21/to-thread-or-not-to-thread/']\n",
      "['https://gowers.wordpress.com/2009/02/23/brief-review-of-polymath1/']\n",
      "['https://gowers.wordpress.com/2009/03/02/dhj3-851-899/']\n",
      "['https://gowers.wordpress.com/2009/03/10/problem-solved-probably/']\n",
      "['https://gowers.wordpress.com/2009/03/10/polymath1-and-open-collaborative-mathematics/']\n",
      "['https://gowers.wordpress.com/2009/03/16/dhj3-and-related-results-1050-1099/']\n",
      "['https://gowers.wordpress.com/2009/03/24/can-polymath-be-scaled-up/']\n",
      "['https://gowers.wordpress.com/2009/06/25/dhj-write-up-and-other-matters/']\n",
      "['https://gowers.wordpress.com/2009/10/20/miscellaneous-matters/']\n",
      "['https://gowers.wordpress.com/2010/02/17/dhj-latest/']\n",
      "['https://gowers.wordpress.com/2012/04/23/polymath-paper-published/']\n",
      "20\n"
     ]
    }
   ],
   "source": [
    "###  Checks the content of the article_link_list\n",
    "for row in article_link_list:\n",
    "\tprint((row))\n",
    "print(len(article_link_list))"
   ]
  },
  {
   "cell_type": "code",
   "execution_count": 8,
   "id": "41902d85",
   "metadata": {},
   "outputs": [],
   "source": [
    "remaining_article_count = len(article_link_list)"
   ]
  },
  {
   "cell_type": "code",
   "execution_count": 9,
   "id": "b49c534d",
   "metadata": {},
   "outputs": [
    {
     "name": "stdout",
     "output_type": "stream",
     "text": [
      "Now scraping: https://gowers.wordpress.com/2009/01/27/is-massively-collaborative-mathematics-possible/...\n",
      "Now scraping: https://gowers.wordpress.com/2009/01/30/background-to-a-polymath-project/...\n",
      "Now scraping: https://gowers.wordpress.com/2009/02/01/questions-of-procedure/...\n",
      "Now scraping: https://gowers.wordpress.com/2009/02/01/a-combinatorial-approach-to-density-hales-jewett/...\n",
      "Now scraping: https://gowers.wordpress.com/2009/02/01/why-this-particular-problem/...\n",
      "Now scraping: https://gowers.wordpress.com/2009/02/04/quick-question/...\n",
      "Now scraping: https://gowers.wordpress.com/2009/02/06/dhj-the-triangle-removal-approach/...\n",
      "Now scraping: https://gowers.wordpress.com/2009/02/08/dhj-quasirandomness-and-obstructions-to-uniformity/...\n",
      "Now scraping: https://gowers.wordpress.com/2009/02/13/dhj-possible-proof-strategies/...\n",
      "Now scraping: https://gowers.wordpress.com/2009/02/21/to-thread-or-not-to-thread/...\n",
      "Now scraping: https://gowers.wordpress.com/2009/02/23/brief-review-of-polymath1/...\n",
      "Now scraping: https://gowers.wordpress.com/2009/03/02/dhj3-851-899/...\n",
      "Now scraping: https://gowers.wordpress.com/2009/03/10/problem-solved-probably/...\n",
      "Now scraping: https://gowers.wordpress.com/2009/03/10/polymath1-and-open-collaborative-mathematics/...\n",
      "Now scraping: https://gowers.wordpress.com/2009/03/16/dhj3-and-related-results-1050-1099/...\n",
      "Now scraping: https://gowers.wordpress.com/2009/03/24/can-polymath-be-scaled-up/...\n",
      "Now scraping: https://gowers.wordpress.com/2009/06/25/dhj-write-up-and-other-matters/...\n",
      "Now scraping: https://gowers.wordpress.com/2009/10/20/miscellaneous-matters/...\n",
      "Now scraping: https://gowers.wordpress.com/2010/02/17/dhj-latest/...\n",
      "Now scraping: https://gowers.wordpress.com/2012/04/23/polymath-paper-published/...\n"
     ]
    }
   ],
   "source": [
    "# pulling data from the various articles\n",
    "for article_link in article_link_list:\n",
    "\n",
    "\t# Masking nature of the bot\n",
    "\tif int(datetime.datetime.now().second) % 3 == 0:\n",
    "\t\tuser_agent = 'Mozilla/5 (Solaris 10) Gecko'\n",
    "\telif int(datetime.datetime.now().second) % 5 == 0:\n",
    "\t\tuser_agent = 'Mozilla/4.0 (compatible; MSIE 10.0; Windows NT 6.1; Trident/5.0)'\n",
    "\telse:\n",
    "\t\tuser_agent = 'Mozilla/5.0 (compatible; MSIE 5.5; Windows NT)'\n",
    "\n",
    "\theaders = {'User-Agent': user_agent}\n",
    "\n",
    "\ttime.sleep(1.4)\n",
    "\n",
    "# \tprint \"\\n\\n=====Task ID: \" + str(uniqueid) + \"=====\\n\"\n",
    "\n",
    "\tarticle_link = ''.join(article_link)\n",
    "\tprint (\"Now scraping: \" + article_link + \"...\")\n",
    "\tr = requests.get(article_link)\n",
    "\tsoupData = BeautifulSoup(r.text)\n",
    "\n",
    "\t### Scraping the title - had to remove the encoding because it killed concate operation in the next line\n",
    "\ttitle = soupData.find('h2').text\n",
    "# \ttitle = title.encode('utf-8-sig').strip()\n",
    "# \tprint (\"Title: \" + title)\n",
    "\n",
    "# <meta property=\"article:published_time\" content=\"2009-02-01T12:43:20+00:00\" />\n",
    "\n",
    "\t### Scraping the timestamp\n",
    "\ttimestamp = soupData.find(\"meta\", property=\"article:published_time\")\n",
    "# \tprint (\"Published Time: \" + timestamp[\"content\"])\n",
    "\tts = timestamp[\"content\"]\n",
    "\n",
    "\t### Scraping the entry\n",
    "\tentry = soupData.find_all(\"div\", {\"class\": \"entry\"})\n",
    "\tpost_content = str(entry)\n",
    "\t### Parsing the text into a beautfulsoup item\n",
    "\tparsed_post_content = BeautifulSoup(post_content)\n",
    "\t### Find all paragraphs/blog content\n",
    "\tcontent_tokens = parsed_post_content.findAll('p')\n",
    "\t### The last 2 paragraphs are unwanted\n",
    "\tadvert_text = content_tokens[len(content_tokens)-1]\n",
    "\t### parse to string form\n",
    "\tadvert_text = advert_text.text\n",
    "\t### parse to string form as well\n",
    "\tpost_content = parsed_post_content.text\n",
    "\t### remove the last 2 paragraphs\n",
    "\tpost_content = post_content.replace(advert_text, \"\")\n",
    "\t### To remove all newlines\n",
    "\tpost_content = post_content.replace(\"\\n\", \"\").replace(\"\\r\", \"\").strip()\n",
    "    ### To remove the garbage left at the end of the text\n",
    "\tpost_content = post_content.replace(\"Share this:TwitterFacebookLike this:Like Loading...Related\", \"\").strip().encode('utf-8')\n",
    "    \n",
    "    ###Add the new row to the dataframe \n",
    "\tnew_row = {'post_source':'Gowers','post_url':article_link,'post_timestamp':ts,'post_title':title,'counter':'0', 'post_author':'gowers', 'post_text':post_content}\n",
    "\tpolymath_Gowers = polymath_Gowers.append(new_row, ignore_index=True)                                "
   ]
  },
  {
   "cell_type": "code",
   "execution_count": 11,
   "id": "76142a74",
   "metadata": {},
   "outputs": [
    {
     "name": "stdout",
     "output_type": "stream",
     "text": [
      "Now scraping: https://gowers.wordpress.com/2009/01/27/is-massively-collaborative-mathematics-possible/...\n",
      "Now scraping: https://gowers.wordpress.com/2009/01/30/background-to-a-polymath-project/...\n",
      "Now scraping: https://gowers.wordpress.com/2009/02/01/questions-of-procedure/...\n",
      "Now scraping: https://gowers.wordpress.com/2009/02/01/a-combinatorial-approach-to-density-hales-jewett/...\n",
      "Now scraping: https://gowers.wordpress.com/2009/02/01/why-this-particular-problem/...\n",
      "Now scraping: https://gowers.wordpress.com/2009/02/04/quick-question/...\n",
      "Now scraping: https://gowers.wordpress.com/2009/02/06/dhj-the-triangle-removal-approach/...\n",
      "Now scraping: https://gowers.wordpress.com/2009/02/08/dhj-quasirandomness-and-obstructions-to-uniformity/...\n",
      "Now scraping: https://gowers.wordpress.com/2009/02/13/dhj-possible-proof-strategies/...\n",
      "Now scraping: https://gowers.wordpress.com/2009/02/21/to-thread-or-not-to-thread/...\n",
      "Now scraping: https://gowers.wordpress.com/2009/02/23/brief-review-of-polymath1/...\n",
      "Now scraping: https://gowers.wordpress.com/2009/03/02/dhj3-851-899/...\n",
      "Now scraping: https://gowers.wordpress.com/2009/03/10/problem-solved-probably/...\n",
      "Now scraping: https://gowers.wordpress.com/2009/03/10/polymath1-and-open-collaborative-mathematics/...\n",
      "Now scraping: https://gowers.wordpress.com/2009/03/16/dhj3-and-related-results-1050-1099/...\n",
      "Now scraping: https://gowers.wordpress.com/2009/03/24/can-polymath-be-scaled-up/...\n",
      "Now scraping: https://gowers.wordpress.com/2009/06/25/dhj-write-up-and-other-matters/...\n",
      "Now scraping: https://gowers.wordpress.com/2009/10/20/miscellaneous-matters/...\n",
      "Now scraping: https://gowers.wordpress.com/2010/02/17/dhj-latest/...\n",
      "Now scraping: https://gowers.wordpress.com/2012/04/23/polymath-paper-published/...\n"
     ]
    }
   ],
   "source": [
    "# pulling comments from the various articles\n",
    "# move into main section once it is working\n",
    "for article_link in article_link_list:\n",
    "\n",
    "\t# Masking nature of the bot\n",
    "\tif int(datetime.datetime.now().second) % 3 == 0:\n",
    "\t\tuser_agent = 'Mozilla/5 (Solaris 10) Gecko'\n",
    "\telif int(datetime.datetime.now().second) % 5 == 0:\n",
    "\t\tuser_agent = 'Mozilla/4.0 (compatible; MSIE 10.0; Windows NT 6.1; Trident/5.0)'\n",
    "\telse:\n",
    "\t\tuser_agent = 'Mozilla/5.0 (compatible; MSIE 5.5; Windows NT)'\n",
    "\n",
    "\theaders = {'User-Agent': user_agent}\n",
    "\n",
    "\ttime.sleep(1.4)\n",
    "\n",
    "\tarticle_link = ''.join(article_link)\n",
    "\tprint (\"Now scraping: \" + article_link + \"...\") # the \"post_url\" field\n",
    "\tr = requests.get(article_link)\n",
    "\tsoupData = BeautifulSoup(r.text)\n",
    "    \n",
    "### Scraping for comments\n",
    "\tcomments_count = soupData.find_all(\"li\", attrs={\"id\" : True})\n",
    "\tfor cc in comments_count:\n",
    "\t\tident = cc[\"id\"].replace(\"comment-\",\"C\").strip()\n",
    "# \t\tprint(ident) #this will be the \"counter\" field\n",
    "        \n",
    "\t\ttime_string = cc.find(\"small\").text.replace(\" | Reply \",\"\").strip()\n",
    "# \t\tprint(time_string) # the \"post_timestamp\" field\n",
    "        \n",
    "\t\tthe_comment = cc.findAll(\"p\")\n",
    "# \t\tprint(the_comment) # the \"post_text\" field\n",
    "\n",
    "\t\tauthor = cc.findAll(\"cite\")\n",
    "# \t\tprint(author) # the \"post_text\" field\n",
    "        \n",
    "        ###insert the rw into the dataframe\n",
    "\t\tnew_row = {'post_source':'Gowers','post_url':article_link,'comment_timestamp':time_string,'post_title':'','counter':ident, 'post_author':author, 'post_text':the_comment}\n",
    "\t\tpolymath_Gowers = polymath_Gowers.append(new_row, ignore_index=True)"
   ]
  },
  {
   "cell_type": "code",
   "execution_count": 12,
   "id": "fbd23a24",
   "metadata": {},
   "outputs": [
    {
     "name": "stdout",
     "output_type": "stream",
     "text": [
      "     post_source                                           post_url  \\\n",
      "0         Gowers  https://gowers.wordpress.com/2009/01/27/is-mas...   \n",
      "1         Gowers  https://gowers.wordpress.com/2009/01/30/backgr...   \n",
      "2         Gowers  https://gowers.wordpress.com/2009/02/01/questi...   \n",
      "3         Gowers  https://gowers.wordpress.com/2009/02/01/a-comb...   \n",
      "4         Gowers  https://gowers.wordpress.com/2009/02/01/why-th...   \n",
      "...          ...                                                ...   \n",
      "1558      Gowers  https://gowers.wordpress.com/2012/04/23/polyma...   \n",
      "1559      Gowers  https://gowers.wordpress.com/2012/04/23/polyma...   \n",
      "1560      Gowers  https://gowers.wordpress.com/2012/04/23/polyma...   \n",
      "1561      Gowers  https://gowers.wordpress.com/2012/04/23/polyma...   \n",
      "1562      Gowers  https://gowers.wordpress.com/2012/04/23/polyma...   \n",
      "\n",
      "                 post_timestamp             comment_timestamp  \\\n",
      "0     2009-01-27T15:47:52+00:00                           NaN   \n",
      "1     2009-01-30T10:51:09+00:00                           NaN   \n",
      "2     2009-02-01T12:41:44+00:00                           NaN   \n",
      "3     2009-02-01T12:43:20+00:00                           NaN   \n",
      "4     2009-02-01T12:44:03+00:00                           NaN   \n",
      "...                         ...                           ...   \n",
      "1558                        NaN     April 25, 2012 at 3:57 am   \n",
      "1559                        NaN     April 25, 2012 at 9:58 pm   \n",
      "1560                        NaN     April 26, 2012 at 2:05 am   \n",
      "1561                        NaN  December 26, 2012 at 2:38 am   \n",
      "1562                        NaN  December 26, 2012 at 5:10 pm   \n",
      "\n",
      "                                            post_title counter  \\\n",
      "0     Is massively collaborative mathematics possible?       0   \n",
      "1                     Background to a Polymath project       0   \n",
      "2                               Questions of procedure       0   \n",
      "3     A combinatorial approach to density Hales-Jewett       0   \n",
      "4                         Why this particular problem?       0   \n",
      "...                                                ...     ...   \n",
      "1558                                                    C16922   \n",
      "1559                                                    C16929   \n",
      "1560                                                    C16930   \n",
      "1561                                                    C31880   \n",
      "1562                                                    C31881   \n",
      "\n",
      "                                       post_author  \\\n",
      "0                                           gowers   \n",
      "1                                           gowers   \n",
      "2                                           gowers   \n",
      "3                                           gowers   \n",
      "4                                           gowers   \n",
      "...                                            ...   \n",
      "1558  [[coreybrady], [[Jason Dyer]], [coreybrady]]   \n",
      "1559                              [[[Jason Dyer]]]   \n",
      "1560                                [[coreybrady]]   \n",
      "1561                          [[Umar], [[gowers]]]   \n",
      "1562                                  [[[gowers]]]   \n",
      "\n",
      "                                              post_text  \n",
      "0     b'[Of course, one might say, there are certain...  \n",
      "1     b'[This post contains brief descriptions of so...  \n",
      "2     b'[As a result of comments on my post Is Massi...  \n",
      "3     b'[Here then is the project that I hope it mig...  \n",
      "4     b'[Let me briefly try to defend my choice of p...  \n",
      "...                                                 ...  \n",
      "1558  [[Congratulations!  ], [Regarding future Polym...  \n",
      "1559  [[Since the EDP is a reboot of a previous Poly...  \n",
      "1560  [[Thanks – that’s very helpful, particularly i...  \n",
      "1561  [[It feels paradoxical that people collaborate...  \n",
      "1562  [[It’s available free on the arXiv if you’re i...  \n",
      "\n",
      "[1563 rows x 8 columns]\n"
     ]
    }
   ],
   "source": [
    "### checking for the Gowers count\n",
    "### [1563 rows x 6 columns] <-- we have all the necessary records for Gowers\n",
    "print(polymath_Gowers)"
   ]
  }
 ],
 "metadata": {
  "kernelspec": {
   "display_name": "Python 3 (ipykernel)",
   "language": "python",
   "name": "python3"
  },
  "language_info": {
   "codemirror_mode": {
    "name": "ipython",
    "version": 3
   },
   "file_extension": ".py",
   "mimetype": "text/x-python",
   "name": "python",
   "nbconvert_exporter": "python",
   "pygments_lexer": "ipython3",
   "version": "3.9.7"
  }
 },
 "nbformat": 4,
 "nbformat_minor": 5
}
