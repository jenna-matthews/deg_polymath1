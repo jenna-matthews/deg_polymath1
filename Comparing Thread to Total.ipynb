{
 "cells": [
  {
   "cell_type": "code",
   "execution_count": null,
   "id": "6f520d0e",
   "metadata": {},
   "outputs": [],
   "source": [
    "#need to store the data in a dataframe\n",
    "import pandas as pd \n",
    "import pandasql\n",
    "import networkx as nx\n",
    "import matplotlib.pyplot as plt\n",
    "\n",
    "from pandasql import sqldf\n",
    "from datetime import datetime"
   ]
  },
  {
   "cell_type": "code",
   "execution_count": null,
   "id": "35550c6d",
   "metadata": {},
   "outputs": [],
   "source": [
    "### reading csv into dataframe\n",
    "df = pd.read_csv('/Users/jennaolsen/Library/CloudStorage/Dropbox/PhD/Polymath1 Project/Gowers_7.csv')\n",
    "# note, removed a single post which occured over two years after the previous\n",
    "# post details: C12981,Gowers_7,11/4/11 0:35,Nicholas Locascio,coalescence,alternate approaches\n",
    "df['updated_timestamp'] = pd.to_datetime(df['updated_timestamp'])\n",
    "print(df)"
   ]
  }
 ],
 "metadata": {
  "kernelspec": {
   "display_name": "Python 3 (ipykernel)",
   "language": "python",
   "name": "python3"
  },
  "language_info": {
   "codemirror_mode": {
    "name": "ipython",
    "version": 3
   },
   "file_extension": ".py",
   "mimetype": "text/x-python",
   "name": "python",
   "nbconvert_exporter": "python",
   "pygments_lexer": "ipython3",
   "version": "3.9.7"
  }
 },
 "nbformat": 4,
 "nbformat_minor": 5
}
